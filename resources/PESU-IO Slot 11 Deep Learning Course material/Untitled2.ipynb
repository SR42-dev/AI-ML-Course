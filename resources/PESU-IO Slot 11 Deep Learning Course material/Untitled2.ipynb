{
  "nbformat": 4,
  "nbformat_minor": 0,
  "metadata": {
    "colab": {
      "name": "Untitled2.ipynb",
      "provenance": []
    },
    "kernelspec": {
      "name": "python3",
      "display_name": "Python 3"
    }
  },
  "cells": [
    {
      "cell_type": "code",
      "metadata": {
        "id": "5ppSsRblyuGj"
      },
      "source": [
        "import tensorflow as tf\n",
        "import matplotlib.pyplot as plt"
      ],
      "execution_count": null,
      "outputs": []
    },
    {
      "cell_type": "code",
      "metadata": {
        "id": "ZVcPf_AO0RF5"
      },
      "source": [
        "mnist = tf.keras.datasets.mnist\n",
        "(x_train,y_train),(x_test,y_test) = mnist.load_data()"
      ],
      "execution_count": null,
      "outputs": []
    },
    {
      "cell_type": "code",
      "metadata": {
        "colab": {
          "base_uri": "https://localhost:8080/",
          "height": 283
        },
        "id": "3EJH4dDs37WH",
        "outputId": "ed2195a5-ec7c-46d6-dfc9-cc6bfe08b528"
      },
      "source": [
        "plt.imshow(x_train[190])\n",
        "print(y_train[190])"
      ],
      "execution_count": null,
      "outputs": [
        {
          "output_type": "stream",
          "text": [
            "2\n"
          ],
          "name": "stdout"
        },
        {
          "output_type": "display_data",
          "data": {
            "image/png": "[encoded data removed]",
            "text/plain": [
              "<Figure size 432x288 with 1 Axes>"
            ]
          },
          "metadata": {
            "tags": [],
            "needs_background": "light"
          }
        }
      ]
    },
    {
      "cell_type": "code",
      "metadata": {
        "colab": {
          "base_uri": "https://localhost:8080/",
          "height": 283
        },
        "id": "p5n1hYi34na6",
        "outputId": "dc322bc5-384c-4f10-8a8b-f2496d709537"
      },
      "source": [
        "plt.imshow(x_train[1])\n",
        "print(y_train[1])"
      ],
      "execution_count": null,
      "outputs": [
        {
          "output_type": "stream",
          "text": [
            "0\n"
          ],
          "name": "stdout"
        },
        {
          "output_type": "display_data",
          "data": {
            "image/png": "[encoded data removed]",
            "text/plain": [
              "<Figure size 432x288 with 1 Axes>"
            ]
          },
          "metadata": {
            "tags": [],
            "needs_background": "light"
          }
        }
      ]
    },
    {
      "cell_type": "code",
      "metadata": {
        "id": "9xgv3UN04vbh"
      },
      "source": [
        "model =tf.keras.models.Sequential(\n",
        "    [\n",
        "     tf.keras.layers.Flatten(input_shape = (28,28)),\n",
        "     tf.keras.layers.Dense(32, activation ='sigmoid'),\n",
        "     tf.keras.layers.Dense(64, activation ='sigmoid'),\n",
        "     tf.keras.layers.Dense(10, activation ='softmax')\n",
        "    ]\n",
        ")"
      ],
      "execution_count": null,
      "outputs": []
    },
    {
      "cell_type": "code",
      "metadata": {
        "colab": {
          "base_uri": "https://localhost:8080/"
        },
        "id": "3_jevI-3LVf-",
        "outputId": "aea7338d-51d9-4192-a87a-2903966d2d7d"
      },
      "source": [
        "model.get_weights()"
      ],
      "execution_count": null,
      "outputs": [
        {
          "output_type": "execute_result",
          "data": {
            "text/plain": [
              "[array([[-0.01573592, -0.07958583,  0.06166068, ...,  0.01384875,\n",
              "         -0.08141363, -0.00077467],\n",
              "        [ 0.08479878,  0.08521969,  0.00650396, ...,  0.00895273,\n",
              "         -0.05350098, -0.00108181],\n",
              "        [-0.05225143,  0.02498981, -0.00196512, ..., -0.08536878,\n",
              "          0.0410803 ,  0.06120013],\n",
              "        ...,\n",
              "        [-0.01202159,  0.07398716, -0.08174468, ...,  0.02796698,\n",
              "          0.07317256, -0.0568229 ],\n",
              "        [ 0.05840778,  0.02819213,  0.0408018 , ..., -0.03082833,\n",
              "         -0.06525964,  0.04370867],\n",
              "        [-0.01533998,  0.02284448, -0.0090352 , ...,  0.07040482,\n",
              "          0.0353551 , -0.01015563]], dtype=float32),\n",
              " array([0., 0., 0., 0., 0., 0., 0., 0., 0., 0., 0., 0., 0., 0., 0., 0., 0.,\n",
              "        0., 0., 0., 0., 0., 0., 0., 0., 0., 0., 0., 0., 0., 0., 0.],\n",
              "       dtype=float32),\n",
              " array([[-0.14781237,  0.06742984, -0.03712797, ...,  0.20397669,\n",
              "          0.08981085,  0.05501288],\n",
              "        [-0.02392948, -0.1537537 , -0.09367859, ..., -0.0957191 ,\n",
              "          0.21918166,  0.04406238],\n",
              "        [-0.03790903, -0.05128837,  0.2244463 , ...,  0.03271884,\n",
              "         -0.21047187,  0.21889627],\n",
              "        ...,\n",
              "        [-0.01923525,  0.13331509,  0.22220993, ..., -0.11820674,\n",
              "         -0.18452114, -0.10678416],\n",
              "        [ 0.15078086,  0.07810235, -0.1226359 , ..., -0.23790896,\n",
              "         -0.05821514,  0.01487571],\n",
              "        [-0.14610612, -0.13154739,  0.18749088, ..., -0.22312379,\n",
              "         -0.19788492,  0.03459072]], dtype=float32),\n",
              " array([0., 0., 0., 0., 0., 0., 0., 0., 0., 0., 0., 0., 0., 0., 0., 0., 0.,\n",
              "        0., 0., 0., 0., 0., 0., 0., 0., 0., 0., 0., 0., 0., 0., 0., 0., 0.,\n",
              "        0., 0., 0., 0., 0., 0., 0., 0., 0., 0., 0., 0., 0., 0., 0., 0., 0.,\n",
              "        0., 0., 0., 0., 0., 0., 0., 0., 0., 0., 0., 0., 0.], dtype=float32),\n",
              " array([[-0.26687497,  0.1820406 ,  0.06086349, -0.19844232,  0.04651195,\n",
              "         -0.21976274, -0.23762158, -0.01156694,  0.2023386 ,  0.06382427],\n",
              "        [ 0.14793563, -0.01536798, -0.10851307,  0.20587415,  0.07743272,\n",
              "          0.04205301, -0.26111004, -0.07984984, -0.20932454, -0.26789   ],\n",
              "        [ 0.25966623,  0.26999858, -0.04900694,  0.05003479, -0.21649729,\n",
              "         -0.1674099 , -0.09583974, -0.23238327, -0.19742168,  0.10042715],\n",
              "        [ 0.23187456, -0.17451468,  0.21115062, -0.13740157, -0.08461355,\n",
              "         -0.2844015 , -0.09712136,  0.08835015,  0.04673287,  0.02090231],\n",
              "        [-0.26358116,  0.08043015, -0.1314786 , -0.00177169, -0.18086803,\n",
              "          0.16712916, -0.05649273,  0.1403153 , -0.2368845 , -0.06215659],\n",
              "        [ 0.11157548, -0.05508186, -0.11263143,  0.10941267, -0.1257998 ,\n",
              "          0.02813208, -0.25526276, -0.08604132, -0.00488862,  0.16665912],\n",
              "        [-0.22189027, -0.22839078, -0.09016246, -0.1692017 ,  0.28345588,\n",
              "          0.15380222,  0.2462962 ,  0.17747086,  0.11603436, -0.18125662],\n",
              "        [ 0.11652479, -0.15268917, -0.0929051 , -0.20721644,  0.23148534,\n",
              "         -0.14922038,  0.28123286,  0.18258616, -0.26813087,  0.2757503 ],\n",
              "        [-0.25235194,  0.02103087, -0.10616343,  0.00486153,  0.27757397,\n",
              "          0.16101313, -0.0647773 , -0.0052031 ,  0.08276534, -0.22589245],\n",
              "        [-0.01282752,  0.18681449, -0.06393453,  0.18250585,  0.02855203,\n",
              "          0.20040363,  0.17294687, -0.22878703, -0.19959012,  0.28155288],\n",
              "        [ 0.09358618, -0.02467823,  0.23361436,  0.21102759,  0.07639483,\n",
              "          0.27804688,  0.23494986, -0.19527632, -0.08193816, -0.10204045],\n",
              "        [ 0.20374155, -0.2737521 , -0.24180314, -0.0845187 ,  0.27988997,\n",
              "         -0.13616097, -0.1639866 ,  0.14407209,  0.0332213 ,  0.05301431],\n",
              "        [ 0.00674757,  0.2512342 ,  0.12897089, -0.233642  , -0.11560728,\n",
              "         -0.1653384 ,  0.04043227, -0.06424668,  0.2212911 , -0.04915291],\n",
              "        [-0.27406234,  0.1990397 , -0.14195319,  0.23172149, -0.26583615,\n",
              "          0.28288075, -0.12684971,  0.10188988, -0.06175122,  0.08815306],\n",
              "        [-0.27725902, -0.1576084 , -0.09110238, -0.15909824,  0.14584568,\n",
              "          0.03686967,  0.05986661, -0.23804969,  0.20187575,  0.2185773 ],\n",
              "        [ 0.08800304, -0.11498697,  0.05851448,  0.05021599,  0.14256236,\n",
              "         -0.00346267, -0.02270463, -0.17410553, -0.02003291, -0.07607099],\n",
              "        [-0.21046805,  0.268428  ,  0.06389189,  0.11483592,  0.04974559,\n",
              "          0.06418693, -0.14208035,  0.21355954, -0.2387275 , -0.27676588],\n",
              "        [ 0.08549312,  0.01456833, -0.03963099,  0.10000527,  0.11800003,\n",
              "         -0.18485025, -0.21130887, -0.08447947, -0.2821469 , -0.214315  ],\n",
              "        [-0.20258832, -0.05361457,  0.23355034,  0.27125266, -0.08682984,\n",
              "         -0.19721991,  0.09421277, -0.2305049 ,  0.13840267, -0.2590353 ],\n",
              "        [-0.02695462, -0.10891919,  0.06352592,  0.27150264,  0.00704825,\n",
              "         -0.05511574, -0.28025803,  0.0838967 ,  0.22011039,  0.20278478],\n",
              "        [-0.20343414, -0.11503178,  0.03198615,  0.28437915, -0.09639962,\n",
              "         -0.21994606,  0.00447667,  0.17771083, -0.17067848, -0.06044178],\n",
              "        [ 0.11341852, -0.0548393 ,  0.09441033,  0.19033521, -0.11842331,\n",
              "         -0.21689174, -0.22713809,  0.1875456 ,  0.0239493 ,  0.05143079],\n",
              "        [-0.18561387,  0.23250249,  0.25944152,  0.28066453, -0.19732392,\n",
              "          0.01256123, -0.04038924, -0.11010331, -0.04942521,  0.08421123],\n",
              "        [-0.1112397 ,  0.14946377,  0.13187227,  0.11163053, -0.14302279,\n",
              "          0.16051412,  0.05175984, -0.22695377,  0.08704695, -0.23254158],\n",
              "        [ 0.07133594,  0.02310157,  0.0661076 , -0.18935694, -0.21145992,\n",
              "          0.20519456,  0.0774124 , -0.18517837,  0.11521026,  0.09399778],\n",
              "        [-0.01002708, -0.14221321,  0.19119495, -0.27934763, -0.1548695 ,\n",
              "         -0.2495499 ,  0.17365807,  0.07329419,  0.13442972, -0.22952391],\n",
              "        [ 0.03767288,  0.22389212,  0.20904598,  0.19698176,  0.03939718,\n",
              "         -0.12943676,  0.19992945,  0.13418403,  0.0385462 , -0.22920579],\n",
              "        [-0.02384487, -0.1954231 ,  0.11570022, -0.23199576, -0.20067146,\n",
              "         -0.13053432,  0.09606153,  0.23912409,  0.20513016, -0.02440056],\n",
              "        [ 0.17601326, -0.03180501, -0.0975014 , -0.26177618,  0.08479658,\n",
              "          0.28286442, -0.13640082, -0.10268915,  0.13394296,  0.00622848],\n",
              "        [-0.1867553 , -0.11063908,  0.03232858, -0.18980202,  0.28223136,\n",
              "         -0.04087737,  0.19522288,  0.06243128,  0.23281023,  0.04896417],\n",
              "        [-0.09442887,  0.19816059, -0.10473348, -0.20942332,  0.14129758,\n",
              "         -0.10470469, -0.16904181, -0.02196103,  0.13466176,  0.09822142],\n",
              "        [-0.2612973 ,  0.0374853 ,  0.03310141, -0.28362858, -0.16482306,\n",
              "          0.1578801 , -0.04377936,  0.07253146, -0.1865688 ,  0.1530711 ],\n",
              "        [-0.09964357, -0.28370252,  0.21179935, -0.03831707, -0.04224846,\n",
              "          0.13566259,  0.05968365,  0.15898573, -0.20057553,  0.07486033],\n",
              "        [ 0.10051221,  0.25423416,  0.02303484,  0.1738719 , -0.12036894,\n",
              "          0.09728238, -0.04122408, -0.05020484,  0.04693803,  0.21047905],\n",
              "        [-0.23295571, -0.08186166, -0.2838033 ,  0.17262831,  0.19027698,\n",
              "          0.10265994, -0.08736345, -0.23288238,  0.11227936, -0.14673856],\n",
              "        [-0.03753172, -0.05637719,  0.20918664, -0.0874657 ,  0.21915951,\n",
              "          0.26287016,  0.04260454, -0.1369609 ,  0.16186076, -0.08949938],\n",
              "        [-0.11950296, -0.19810763,  0.03132674, -0.05230181, -0.01080325,\n",
              "         -0.18582779,  0.21454662,  0.27300116, -0.08938953, -0.2264814 ],\n",
              "        [ 0.26881233, -0.02058592,  0.03699112, -0.01424482, -0.06980117,\n",
              "          0.2698944 , -0.2775868 ,  0.08385509, -0.143268  ,  0.2348738 ],\n",
              "        [-0.10772495, -0.21276407, -0.16116348,  0.22746691, -0.24871615,\n",
              "         -0.09124182, -0.2195779 ,  0.26758763,  0.27199605,  0.02003312],\n",
              "        [ 0.18955341, -0.11018884,  0.26586303, -0.1896306 , -0.1030558 ,\n",
              "         -0.15841235, -0.14325456,  0.25069085,  0.24286088, -0.18439044],\n",
              "        [-0.00361374,  0.10129192, -0.17287558,  0.14984637,  0.13379142,\n",
              "         -0.03622031,  0.07081285,  0.28135982,  0.24748364, -0.1597738 ],\n",
              "        [ 0.1976206 ,  0.22801414,  0.01596114,  0.2570049 ,  0.04740077,\n",
              "         -0.06008121,  0.16273683,  0.08009186, -0.2693238 , -0.10790206],\n",
              "        [ 0.26436606, -0.24122623, -0.24711275, -0.140213  ,  0.01178092,\n",
              "         -0.28406572,  0.21908143,  0.08628103,  0.01311699,  0.12944627],\n",
              "        [-0.02709275, -0.16718578,  0.04433563,  0.09170124,  0.03439036,\n",
              "          0.16658965, -0.00599012,  0.06406894, -0.22012033,  0.13214633],\n",
              "        [-0.16757976,  0.19289714,  0.2196702 ,  0.0773336 , -0.17071399,\n",
              "          0.28471574,  0.11804673,  0.13885128,  0.2173746 , -0.10771361],\n",
              "        [ 0.05000851,  0.2801822 , -0.2631658 ,  0.26556858,  0.11881632,\n",
              "          0.07257986,  0.07886645, -0.22962764,  0.18785536, -0.02304325],\n",
              "        [ 0.08586839, -0.16823013, -0.00144434, -0.16487613,  0.02928638,\n",
              "          0.04183751,  0.04151028, -0.1704121 ,  0.27798524, -0.05676219],\n",
              "        [ 0.1948857 , -0.01734328,  0.17731655, -0.18311094,  0.1558274 ,\n",
              "         -0.01051691,  0.2056503 , -0.03564644,  0.08198529, -0.00980195],\n",
              "        [-0.25983787,  0.00266519,  0.21852437,  0.13016868,  0.07827392,\n",
              "         -0.08089709,  0.03125009, -0.18977174,  0.23638776, -0.25078338],\n",
              "        [ 0.09033287,  0.20281962,  0.12085244,  0.22676095,  0.13139448,\n",
              "         -0.10037114, -0.06115657,  0.10537633,  0.197254  ,  0.14788797],\n",
              "        [-0.0186629 , -0.00058791, -0.18060713,  0.24362889,  0.10265648,\n",
              "          0.0785397 , -0.26576322,  0.07083702, -0.0801643 ,  0.20515147],\n",
              "        [-0.19062239,  0.2550272 , -0.27146217, -0.16171034, -0.20529254,\n",
              "          0.19954544, -0.0907169 ,  0.09388834, -0.11620429, -0.22271939],\n",
              "        [ 0.06725702, -0.03381982, -0.14208673,  0.15954977,  0.07686856,\n",
              "          0.18252248, -0.04116012,  0.16788757, -0.07426976, -0.16972212],\n",
              "        [ 0.06291592, -0.19078702, -0.27139646,  0.21632656, -0.14550039,\n",
              "         -0.11372383, -0.19097568,  0.2683632 ,  0.00359628, -0.19294046],\n",
              "        [ 0.21028769,  0.13803259,  0.06152162, -0.13595892,  0.15809503,\n",
              "          0.07161182,  0.07808024, -0.03957492, -0.05915405, -0.13411526],\n",
              "        [ 0.15180743, -0.05378009,  0.2040042 ,  0.13470766, -0.24078582,\n",
              "         -0.05705777, -0.09451604, -0.0728153 ,  0.2783216 ,  0.19380218],\n",
              "        [ 0.22547707, -0.00874338,  0.1734814 , -0.22918338, -0.23142827,\n",
              "          0.05930239, -0.05474418, -0.24529874,  0.02417666, -0.27889603],\n",
              "        [-0.17451727,  0.09697077,  0.13888487, -0.20631352, -0.16248502,\n",
              "          0.22059557,  0.05051672,  0.04374078,  0.13163194, -0.05260214],\n",
              "        [ 0.05924115,  0.05124342, -0.0305168 ,  0.13985759,  0.19882447,\n",
              "         -0.22657996,  0.2486771 ,  0.1704624 , -0.11176096, -0.10955918],\n",
              "        [ 0.2613304 , -0.09881125, -0.22222699, -0.17315432, -0.26277116,\n",
              "         -0.22019243, -0.00355148,  0.12355673, -0.12758039,  0.18008804],\n",
              "        [-0.00512257,  0.09807098,  0.21278656,  0.2839338 , -0.08083545,\n",
              "         -0.05409251,  0.09809673, -0.14652742,  0.24994937, -0.07216072],\n",
              "        [ 0.03719601,  0.252695  , -0.22888236, -0.0175972 ,  0.26868   ,\n",
              "          0.23962769, -0.17110293,  0.07172182,  0.14143634, -0.27329057],\n",
              "        [ 0.27562067,  0.04277363, -0.1702078 ,  0.19781768,  0.13347465,\n",
              "         -0.13802628,  0.13308308, -0.28043196,  0.26889732, -0.13590285],\n",
              "        [ 0.14819905, -0.2577765 , -0.19009733,  0.10668841, -0.10254936,\n",
              "         -0.18895958,  0.21163473, -0.16486168,  0.06172815,  0.06095651]],\n",
              "       dtype=float32),\n",
              " array([0., 0., 0., 0., 0., 0., 0., 0., 0., 0.], dtype=float32)]"
            ]
          },
          "metadata": {
            "tags": []
          },
          "execution_count": 30
        }
      ]
    },
    {
      "cell_type": "code",
      "metadata": {
        "id": "er81bvRY4beW",
        "colab": {
          "base_uri": "https://localhost:8080/"
        },
        "outputId": "f1a7e480-757b-4caf-d71a-7e03bdc2f02f"
      },
      "source": [
        "model.summary()"
      ],
      "execution_count": null,
      "outputs": [
        {
          "output_type": "stream",
          "text": [
            "Model: \"sequential_2\"\n",
            "_________________________________________________________________\n",
            "Layer (type)                 Output Shape              Param #   \n",
            "=================================================================\n",
            "flatten_2 (Flatten)          (None, 784)               0         \n",
            "_________________________________________________________________\n",
            "dense_6 (Dense)              (None, 32)                25120     \n",
            "_________________________________________________________________\n",
            "dense_7 (Dense)              (None, 64)                2112      \n",
            "_________________________________________________________________\n",
            "dense_8 (Dense)              (None, 10)                650       \n",
            "=================================================================\n",
            "Total params: 27,882\n",
            "Trainable params: 27,882\n",
            "Non-trainable params: 0\n",
            "_________________________________________________________________\n"
          ],
          "name": "stdout"
        }
      ]
    },
    {
      "cell_type": "code",
      "metadata": {
        "id": "UBiOfXyTNmNT"
      },
      "source": [
        "losss =tf.keras.losses.SparseCategoricalCrossentropy(from_logits=True)"
      ],
      "execution_count": null,
      "outputs": []
    },
    {
      "cell_type": "code",
      "metadata": {
        "id": "NGkjAyBFOsrF"
      },
      "source": [
        "model.compile(optimizer='sgd',loss = losss,metrics=['accuracy'])"
      ],
      "execution_count": null,
      "outputs": []
    },
    {
      "cell_type": "code",
      "metadata": {
        "colab": {
          "base_uri": "https://localhost:8080/"
        },
        "id": "rsdiAuA2Peje",
        "outputId": "1054a0f2-30d5-4104-8835-888a6e7b52f7"
      },
      "source": [
        "history=model.fit(x_train,y_train,epochs = 5,batch_size=5)"
      ],
      "execution_count": null,
      "outputs": [
        {
          "output_type": "stream",
          "text": [
            "Epoch 1/5\n",
            "12000/12000 [==============================] - 13s 1ms/step - loss: 0.5357 - accuracy: 0.8301\n",
            "Epoch 2/5\n",
            "12000/12000 [==============================] - 12s 1ms/step - loss: 0.5636 - accuracy: 0.8208\n",
            "Epoch 3/5\n",
            "12000/12000 [==============================] - 12s 1ms/step - loss: 0.5724 - accuracy: 0.8188\n",
            "Epoch 4/5\n",
            "12000/12000 [==============================] - 12s 1ms/step - loss: 0.5570 - accuracy: 0.8230\n",
            "Epoch 5/5\n",
            "12000/12000 [==============================] - 12s 1ms/step - loss: 0.6636 - accuracy: 0.7774\n"
          ],
          "name": "stdout"
        }
      ]
    },
    {
      "cell_type": "code",
      "metadata": {
        "colab": {
          "base_uri": "https://localhost:8080/"
        },
        "id": "BfLGZtyVQOOH",
        "outputId": "cf617142-8b1f-4a5d-bd8b-99b1685e41cc"
      },
      "source": [
        "model.evaluate(x_test,y_test,verbose = 2)"
      ],
      "execution_count": null,
      "outputs": [
        {
          "output_type": "stream",
          "text": [
            "313/313 - 0s - loss: 0.5935 - accuracy: 0.8131\n"
          ],
          "name": "stdout"
        },
        {
          "output_type": "execute_result",
          "data": {
            "text/plain": [
              "[0.5935083031654358, 0.8130999803543091]"
            ]
          },
          "metadata": {
            "tags": []
          },
          "execution_count": 43
        }
      ]
    }
  ]
}
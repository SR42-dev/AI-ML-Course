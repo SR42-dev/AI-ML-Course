{
  "nbformat": 4,
  "nbformat_minor": 0,
  "metadata": {
    "colab": {
      "name": "Week2.ipynb",
      "provenance": []
    },
    "kernelspec": {
      "name": "python3",
      "display_name": "Python 3"
    },
    "accelerator": "GPU"
  },
  "cells": [
    {
      "cell_type": "code",
      "metadata": {
        "id": "HQ8V2y_9kG40"
      },
      "source": [
        "import tensorflow as tf\n",
        "import matplotlib.pyplot as plt"
      ],
      "execution_count": null,
      "outputs": []
    },
    {
      "cell_type": "code",
      "metadata": {
        "colab": {
          "base_uri": "https://localhost:8080/"
        },
        "id": "kG5LMtgqkWzu",
        "outputId": "146a6e9f-c8ee-4ed1-8b89-0e06621c56e7"
      },
      "source": [
        "(train_img, train_out), (test_img, test_out) = tf.keras.datasets.cifar10.load_data()"
      ],
      "execution_count": null,
      "outputs": [
        {
          "output_type": "stream",
          "text": [
            "Downloading data from https://www.cs.toronto.edu/~kriz/cifar-10-python.tar.gz\n",
            "170500096/170498071 [==============================] - 11s 0us/step\n"
          ],
          "name": "stdout"
        }
      ]
    },
    {
      "cell_type": "code",
      "metadata": {
        "colab": {
          "base_uri": "https://localhost:8080/",
          "height": 609
        },
        "id": "LVuyT5PPk2LE",
        "outputId": "e94699ec-4965-481f-a048-ae0c6781e816"
      },
      "source": [
        "plt.figure(figsize=(10,10))\n",
        "plt.imshow(train_img[11])"
      ],
      "execution_count": null,
      "outputs": [
        {
          "output_type": "execute_result",
          "data": {
            "text/plain": [
              "<matplotlib.image.AxesImage at 0x7f173af63310>"
            ]
          },
          "metadata": {
            "tags": []
          },
          "execution_count": 4
        },
        {
          "output_type": "display_data",
          "data": {
            "image/png": "[encoded data removed]",
            "text/plain": [
              "<Figure size 720x720 with 1 Axes>"
            ]
          },
          "metadata": {
            "tags": [],
            "needs_background": "light"
          }
        }
      ]
    },
    {
      "cell_type": "code",
      "metadata": {
        "id": "z7YvmSvwlVVZ"
      },
      "source": [
        "CNNmodel = tf.keras.models.Sequential()\n",
        "\n",
        "# Feature Extraction part\n",
        "CNNmodel.add(tf.keras.layers.Conv2D(32, (3,3), activation='relu', input_shape=(32, 32, 3)))\n",
        "CNNmodel.add(tf.keras.layers.MaxPool2D(2,2))\n",
        "CNNmodel.add(tf.keras.layers.Conv2D(64, (3, 3), activation= 'relu'))\n",
        "CNNmodel.add(tf.keras.layers.MaxPool2D(2,2))\n",
        "CNNmodel.add(tf.keras.layers.Conv2D(64, (3, 3), activation= 'relu'))\n",
        "\n",
        "# Neural Network - For classification\n",
        "CNNmodel.add(tf.keras.layers.Flatten())\n",
        "CNNmodel.add(tf.keras.layers.Dense(32, activation='relu'))\n",
        "CNNmodel.add(tf.keras.layers.Dense(64, activation='relu'))\n",
        "CNNmodel.add(tf.keras.layers.Dense(10))"
      ],
      "execution_count": null,
      "outputs": []
    },
    {
      "cell_type": "code",
      "metadata": {
        "colab": {
          "base_uri": "https://localhost:8080/"
        },
        "id": "TKjDBpktnKZN",
        "outputId": "88bd2868-c833-4298-8407-797be60017fa"
      },
      "source": [
        "CNNmodel.summary()"
      ],
      "execution_count": null,
      "outputs": [
        {
          "output_type": "stream",
          "text": [
            "Model: \"sequential\"\n",
            "_________________________________________________________________\n",
            "Layer (type)                 Output Shape              Param #   \n",
            "=================================================================\n",
            "conv2d (Conv2D)              (None, 30, 30, 32)        896       \n",
            "_________________________________________________________________\n",
            "max_pooling2d (MaxPooling2D) (None, 15, 15, 32)        0         \n",
            "_________________________________________________________________\n",
            "conv2d_1 (Conv2D)            (None, 13, 13, 64)        18496     \n",
            "_________________________________________________________________\n",
            "max_pooling2d_1 (MaxPooling2 (None, 6, 6, 64)          0         \n",
            "_________________________________________________________________\n",
            "conv2d_2 (Conv2D)            (None, 4, 4, 64)          36928     \n",
            "_________________________________________________________________\n",
            "flatten (Flatten)            (None, 1024)              0         \n",
            "_________________________________________________________________\n",
            "dense (Dense)                (None, 32)                32800     \n",
            "_________________________________________________________________\n",
            "dense_1 (Dense)              (None, 64)                2112      \n",
            "_________________________________________________________________\n",
            "dense_2 (Dense)              (None, 10)                650       \n",
            "=================================================================\n",
            "Total params: 91,882\n",
            "Trainable params: 91,882\n",
            "Non-trainable params: 0\n",
            "_________________________________________________________________\n"
          ],
          "name": "stdout"
        }
      ]
    },
    {
      "cell_type": "code",
      "metadata": {
        "id": "m0OAQQtWn_2H"
      },
      "source": [
        "CNNmodel.compile(optimizer='adam',\n",
        "                 loss=tf.keras.losses.SparseCategoricalCrossentropy(from_logits=True),\n",
        "                 metrics = ['accuracy'])"
      ],
      "execution_count": null,
      "outputs": []
    },
    {
      "cell_type": "code",
      "metadata": {
        "colab": {
          "base_uri": "https://localhost:8080/"
        },
        "id": "51cXLaiDojWt",
        "outputId": "7dfd2e41-68a4-430f-d385-d97f9414f2b5"
      },
      "source": [
        "history = CNNmodel.fit(train_img, train_out, validation_data=(test_img, test_out), epochs = 75 )"
      ],
      "execution_count": null,
      "outputs": [
        {
          "output_type": "stream",
          "text": [
            "Epoch 1/75\n",
            "1563/1563 [==============================] - 41s 7ms/step - loss: 2.5495 - accuracy: 0.1027 - val_loss: 2.3026 - val_accuracy: 0.1000\n",
            "Epoch 2/75\n",
            "1563/1563 [==============================] - 10s 7ms/step - loss: 2.3027 - accuracy: 0.0986 - val_loss: 2.3026 - val_accuracy: 0.1000\n",
            "Epoch 3/75\n",
            "1563/1563 [==============================] - 10s 7ms/step - loss: 2.3028 - accuracy: 0.0969 - val_loss: 2.3026 - val_accuracy: 0.1000\n",
            "Epoch 4/75\n",
            "1563/1563 [==============================] - 10s 7ms/step - loss: 2.3027 - accuracy: 0.0998 - val_loss: 2.3026 - val_accuracy: 0.1000\n",
            "Epoch 5/75\n",
            "1563/1563 [==============================] - 10s 7ms/step - loss: 2.3028 - accuracy: 0.0983 - val_loss: 2.3026 - val_accuracy: 0.1000\n",
            "Epoch 6/75\n",
            "1563/1563 [==============================] - 10s 7ms/step - loss: 2.3027 - accuracy: 0.1004 - val_loss: 2.3026 - val_accuracy: 0.1000\n",
            "Epoch 7/75\n",
            "1563/1563 [==============================] - 10s 7ms/step - loss: 2.3027 - accuracy: 0.1000 - val_loss: 2.3027 - val_accuracy: 0.1000\n",
            "Epoch 8/75\n",
            "1563/1563 [==============================] - 10s 7ms/step - loss: 2.3028 - accuracy: 0.0957 - val_loss: 2.3026 - val_accuracy: 0.1000\n",
            "Epoch 9/75\n",
            "1563/1563 [==============================] - 10s 7ms/step - loss: 2.3027 - accuracy: 0.0989 - val_loss: 2.3027 - val_accuracy: 0.1000\n",
            "Epoch 10/75\n",
            "1563/1563 [==============================] - 10s 7ms/step - loss: 2.3028 - accuracy: 0.0995 - val_loss: 2.3026 - val_accuracy: 0.1000\n",
            "Epoch 11/75\n",
            "1563/1563 [==============================] - 10s 7ms/step - loss: 2.3028 - accuracy: 0.0976 - val_loss: 2.3026 - val_accuracy: 0.1000\n",
            "Epoch 12/75\n",
            "1563/1563 [==============================] - 10s 7ms/step - loss: 2.3028 - accuracy: 0.0987 - val_loss: 2.3027 - val_accuracy: 0.1000\n",
            "Epoch 13/75\n",
            "1563/1563 [==============================] - 10s 7ms/step - loss: 2.3027 - accuracy: 0.0985 - val_loss: 2.3026 - val_accuracy: 0.1000\n",
            "Epoch 14/75\n",
            "1563/1563 [==============================] - 10s 7ms/step - loss: 2.3028 - accuracy: 0.0972 - val_loss: 2.3026 - val_accuracy: 0.1000\n",
            "Epoch 15/75\n",
            "1563/1563 [==============================] - 10s 7ms/step - loss: 2.3027 - accuracy: 0.1003 - val_loss: 2.3027 - val_accuracy: 0.1000\n",
            "Epoch 16/75\n",
            "1563/1563 [==============================] - 10s 7ms/step - loss: 2.3028 - accuracy: 0.0977 - val_loss: 2.3027 - val_accuracy: 0.1000\n",
            "Epoch 17/75\n",
            "1563/1563 [==============================] - 10s 7ms/step - loss: 2.3027 - accuracy: 0.0995 - val_loss: 2.3026 - val_accuracy: 0.1000\n",
            "Epoch 18/75\n",
            "1563/1563 [==============================] - 10s 7ms/step - loss: 2.3028 - accuracy: 0.1007 - val_loss: 2.3026 - val_accuracy: 0.1000\n",
            "Epoch 19/75\n",
            "1563/1563 [==============================] - 10s 7ms/step - loss: 2.3027 - accuracy: 0.0989 - val_loss: 2.3026 - val_accuracy: 0.0999\n",
            "Epoch 20/75\n",
            "1563/1563 [==============================] - 10s 7ms/step - loss: 2.3027 - accuracy: 0.0988 - val_loss: 2.3027 - val_accuracy: 0.1000\n",
            "Epoch 21/75\n",
            "1563/1563 [==============================] - 10s 7ms/step - loss: 2.3027 - accuracy: 0.1014 - val_loss: 2.3026 - val_accuracy: 0.1000\n",
            "Epoch 22/75\n",
            "1563/1563 [==============================] - 10s 7ms/step - loss: 2.3028 - accuracy: 0.1015 - val_loss: 2.3026 - val_accuracy: 0.1000\n",
            "Epoch 23/75\n",
            "1563/1563 [==============================] - 10s 7ms/step - loss: 2.3028 - accuracy: 0.0947 - val_loss: 2.3026 - val_accuracy: 0.1000\n",
            "Epoch 24/75\n",
            "1563/1563 [==============================] - 10s 7ms/step - loss: 2.3028 - accuracy: 0.0977 - val_loss: 2.3026 - val_accuracy: 0.1000\n",
            "Epoch 25/75\n",
            "1563/1563 [==============================] - 10s 7ms/step - loss: 2.3027 - accuracy: 0.0995 - val_loss: 2.3026 - val_accuracy: 0.1000\n",
            "Epoch 26/75\n",
            "1563/1563 [==============================] - 10s 7ms/step - loss: 2.3027 - accuracy: 0.1003 - val_loss: 2.3027 - val_accuracy: 0.1000\n",
            "Epoch 27/75\n",
            "1563/1563 [==============================] - 10s 7ms/step - loss: 2.3028 - accuracy: 0.1003 - val_loss: 2.3026 - val_accuracy: 0.1000\n",
            "Epoch 28/75\n",
            "1563/1563 [==============================] - 10s 7ms/step - loss: 2.3027 - accuracy: 0.0972 - val_loss: 2.3027 - val_accuracy: 0.1000\n",
            "Epoch 29/75\n",
            "1563/1563 [==============================] - 10s 7ms/step - loss: 2.3028 - accuracy: 0.0991 - val_loss: 2.3026 - val_accuracy: 0.1000\n",
            "Epoch 30/75\n",
            "1563/1563 [==============================] - 10s 7ms/step - loss: 2.3027 - accuracy: 0.0993 - val_loss: 2.3026 - val_accuracy: 0.1000\n",
            "Epoch 31/75\n",
            "1563/1563 [==============================] - 10s 7ms/step - loss: 2.3027 - accuracy: 0.0949 - val_loss: 2.3026 - val_accuracy: 0.1000\n",
            "Epoch 32/75\n",
            "1563/1563 [==============================] - 10s 7ms/step - loss: 2.3028 - accuracy: 0.0996 - val_loss: 2.3026 - val_accuracy: 0.1000\n",
            "Epoch 33/75\n",
            "1563/1563 [==============================] - 10s 7ms/step - loss: 2.3028 - accuracy: 0.0969 - val_loss: 2.3026 - val_accuracy: 0.1000\n",
            "Epoch 34/75\n",
            "1563/1563 [==============================] - 10s 7ms/step - loss: 2.3027 - accuracy: 0.1004 - val_loss: 2.3027 - val_accuracy: 0.1000\n",
            "Epoch 35/75\n",
            "1563/1563 [==============================] - 10s 7ms/step - loss: 2.3027 - accuracy: 0.0984 - val_loss: 2.3026 - val_accuracy: 0.1000\n",
            "Epoch 36/75\n",
            "1563/1563 [==============================] - 10s 7ms/step - loss: 2.3028 - accuracy: 0.0986 - val_loss: 2.3026 - val_accuracy: 0.1000\n",
            "Epoch 37/75\n",
            "1563/1563 [==============================] - 10s 7ms/step - loss: 2.3026 - accuracy: 0.1001 - val_loss: 2.3026 - val_accuracy: 0.1000\n",
            "Epoch 38/75\n",
            "1563/1563 [==============================] - 10s 7ms/step - loss: 2.3028 - accuracy: 0.0999 - val_loss: 2.3026 - val_accuracy: 0.0999\n",
            "Epoch 39/75\n",
            "1563/1563 [==============================] - 10s 7ms/step - loss: 2.3027 - accuracy: 0.1010 - val_loss: 2.3026 - val_accuracy: 0.1000\n",
            "Epoch 40/75\n",
            "1563/1563 [==============================] - 10s 7ms/step - loss: 2.3028 - accuracy: 0.0989 - val_loss: 2.3026 - val_accuracy: 0.1000\n",
            "Epoch 41/75\n",
            "1563/1563 [==============================] - 10s 7ms/step - loss: 2.3027 - accuracy: 0.0971 - val_loss: 2.3027 - val_accuracy: 0.0999\n",
            "Epoch 42/75\n",
            "1563/1563 [==============================] - 10s 7ms/step - loss: 2.3027 - accuracy: 0.0981 - val_loss: 2.3027 - val_accuracy: 0.1000\n",
            "Epoch 43/75\n",
            "1563/1563 [==============================] - 10s 7ms/step - loss: 2.3028 - accuracy: 0.0982 - val_loss: 2.3026 - val_accuracy: 0.1000\n",
            "Epoch 44/75\n",
            "1563/1563 [==============================] - 10s 7ms/step - loss: 2.3027 - accuracy: 0.1029 - val_loss: 2.3026 - val_accuracy: 0.1000\n",
            "Epoch 45/75\n",
            "1563/1563 [==============================] - 10s 7ms/step - loss: 2.3027 - accuracy: 0.0950 - val_loss: 2.3026 - val_accuracy: 0.1000\n",
            "Epoch 46/75\n",
            "1563/1563 [==============================] - 10s 7ms/step - loss: 2.3028 - accuracy: 0.0965 - val_loss: 2.3027 - val_accuracy: 0.1000\n",
            "Epoch 47/75\n",
            "1563/1563 [==============================] - 10s 7ms/step - loss: 2.3028 - accuracy: 0.0977 - val_loss: 2.3026 - val_accuracy: 0.1000\n",
            "Epoch 48/75\n",
            "1563/1563 [==============================] - 10s 7ms/step - loss: 2.3027 - accuracy: 0.1003 - val_loss: 2.3027 - val_accuracy: 0.1000\n",
            "Epoch 49/75\n",
            "1563/1563 [==============================] - 10s 7ms/step - loss: 2.3028 - accuracy: 0.0997 - val_loss: 2.3026 - val_accuracy: 0.1000\n",
            "Epoch 50/75\n",
            "1563/1563 [==============================] - 10s 7ms/step - loss: 2.3028 - accuracy: 0.0987 - val_loss: 2.3026 - val_accuracy: 0.1000\n",
            "Epoch 51/75\n",
            "1563/1563 [==============================] - 10s 7ms/step - loss: 2.3027 - accuracy: 0.0990 - val_loss: 2.3026 - val_accuracy: 0.1000\n",
            "Epoch 52/75\n",
            "1563/1563 [==============================] - 10s 7ms/step - loss: 2.3026 - accuracy: 0.1009 - val_loss: 2.3026 - val_accuracy: 0.1000\n",
            "Epoch 53/75\n",
            "1563/1563 [==============================] - 10s 7ms/step - loss: 2.3027 - accuracy: 0.1009 - val_loss: 2.3026 - val_accuracy: 0.1000\n",
            "Epoch 54/75\n",
            "1563/1563 [==============================] - 10s 7ms/step - loss: 2.3027 - accuracy: 0.1017 - val_loss: 2.3026 - val_accuracy: 0.1000\n",
            "Epoch 55/75\n",
            "1563/1563 [==============================] - 10s 7ms/step - loss: 2.3027 - accuracy: 0.0995 - val_loss: 2.3026 - val_accuracy: 0.1000\n",
            "Epoch 56/75\n",
            "1563/1563 [==============================] - 10s 7ms/step - loss: 2.3026 - accuracy: 0.1026 - val_loss: 2.3027 - val_accuracy: 0.1000\n",
            "Epoch 57/75\n",
            "1563/1563 [==============================] - 10s 7ms/step - loss: 2.3028 - accuracy: 0.0983 - val_loss: 2.3026 - val_accuracy: 0.1000\n",
            "Epoch 58/75\n",
            "1563/1563 [==============================] - 10s 7ms/step - loss: 2.3028 - accuracy: 0.0966 - val_loss: 2.3026 - val_accuracy: 0.1000\n",
            "Epoch 59/75\n",
            "1563/1563 [==============================] - 10s 7ms/step - loss: 2.3027 - accuracy: 0.0990 - val_loss: 2.3026 - val_accuracy: 0.1000\n",
            "Epoch 60/75\n",
            "1563/1563 [==============================] - 10s 7ms/step - loss: 2.3027 - accuracy: 0.1002 - val_loss: 2.3027 - val_accuracy: 0.1000\n",
            "Epoch 61/75\n",
            "1563/1563 [==============================] - 10s 7ms/step - loss: 2.3027 - accuracy: 0.1013 - val_loss: 2.3026 - val_accuracy: 0.1000\n",
            "Epoch 62/75\n",
            "1563/1563 [==============================] - 10s 7ms/step - loss: 2.3027 - accuracy: 0.0996 - val_loss: 2.3026 - val_accuracy: 0.1000\n",
            "Epoch 63/75\n",
            "1563/1563 [==============================] - 11s 7ms/step - loss: 2.3028 - accuracy: 0.0970 - val_loss: 2.3027 - val_accuracy: 0.1000\n",
            "Epoch 64/75\n",
            "1563/1563 [==============================] - 10s 7ms/step - loss: 2.3028 - accuracy: 0.0989 - val_loss: 2.3027 - val_accuracy: 0.1000\n",
            "Epoch 65/75\n",
            "1563/1563 [==============================] - 10s 7ms/step - loss: 2.3028 - accuracy: 0.0961 - val_loss: 2.3026 - val_accuracy: 0.1000\n",
            "Epoch 66/75\n",
            "1563/1563 [==============================] - 10s 7ms/step - loss: 2.3027 - accuracy: 0.1022 - val_loss: 2.3026 - val_accuracy: 0.1000\n",
            "Epoch 67/75\n",
            "1563/1563 [==============================] - 10s 7ms/step - loss: 2.3028 - accuracy: 0.0989 - val_loss: 2.3026 - val_accuracy: 0.1000\n",
            "Epoch 68/75\n",
            "1563/1563 [==============================] - 10s 7ms/step - loss: 2.3027 - accuracy: 0.0967 - val_loss: 2.3026 - val_accuracy: 0.1000\n",
            "Epoch 69/75\n",
            "1563/1563 [==============================] - 10s 7ms/step - loss: 2.3028 - accuracy: 0.0994 - val_loss: 2.3026 - val_accuracy: 0.1000\n",
            "Epoch 70/75\n",
            "1563/1563 [==============================] - 10s 7ms/step - loss: 2.3028 - accuracy: 0.0979 - val_loss: 2.3027 - val_accuracy: 0.1000\n",
            "Epoch 71/75\n",
            "1563/1563 [==============================] - 10s 7ms/step - loss: 2.3027 - accuracy: 0.0989 - val_loss: 2.3026 - val_accuracy: 0.1000\n",
            "Epoch 72/75\n",
            "1563/1563 [==============================] - 10s 7ms/step - loss: 2.3027 - accuracy: 0.0975 - val_loss: 2.3026 - val_accuracy: 0.1000\n",
            "Epoch 73/75\n",
            "1563/1563 [==============================] - 10s 7ms/step - loss: 2.3027 - accuracy: 0.0986 - val_loss: 2.3026 - val_accuracy: 0.1000\n",
            "Epoch 74/75\n",
            "1563/1563 [==============================] - 10s 7ms/step - loss: 2.3028 - accuracy: 0.0968 - val_loss: 2.3026 - val_accuracy: 0.1000\n",
            "Epoch 75/75\n",
            "1563/1563 [==============================] - 10s 7ms/step - loss: 2.3027 - accuracy: 0.0981 - val_loss: 2.3026 - val_accuracy: 0.1000\n"
          ],
          "name": "stdout"
        }
      ]
    },
    {
      "cell_type": "code",
      "metadata": {
        "colab": {
          "base_uri": "https://localhost:8080/",
          "height": 295
        },
        "id": "ucvaSvcYosit",
        "outputId": "8417fce8-09a7-4a67-cad3-7fc197767749"
      },
      "source": [
        "plt.plot(history.history['accuracy'])\n",
        "plt.plot(history.history['val_accuracy'])\n",
        "plt.title('Model')\n",
        "plt.xlabel('epoch')\n",
        "plt.ylabel('accuracy')\n",
        "# plt.ylim([0.5,1])\n",
        "plt.legend(['train', 'test'], loc='upper left')\n",
        "plt.show()"
      ],
      "execution_count": null,
      "outputs": [
        {
          "output_type": "display_data",
          "data": {
            "image/png": "[encoded data removed]",
            "text/plain": [
              "<Figure size 432x288 with 1 Axes>"
            ]
          },
          "metadata": {
            "tags": [],
            "needs_background": "light"
          }
        }
      ]
    },
    {
      "cell_type": "code",
      "metadata": {
        "colab": {
          "base_uri": "https://localhost:8080/",
          "height": 295
        },
        "id": "nTd5j71brMTv",
        "outputId": "1843f70a-8edd-465a-d8e7-3ba975717052"
      },
      "source": [
        "plt.plot(history.history['loss'])\n",
        "plt.plot(history.history['val_loss'])\n",
        "plt.title('Model')\n",
        "plt.xlabel('epoch')\n",
        "plt.ylabel('loss')\n",
        "# plt.ylim([0.5,1])\n",
        "plt.legend(['train', 'test'], loc='upper left')\n",
        "plt.show()"
      ],
      "execution_count": null,
      "outputs": [
        {
          "output_type": "display_data",
          "data": {
            "image/png": "[encoded data removed]",
            "text/plain": [
              "<Figure size 432x288 with 1 Axes>"
            ]
          },
          "metadata": {
            "tags": [],
            "needs_background": "light"
          }
        }
      ]
    },
    {
      "cell_type": "code",
      "metadata": {
        "id": "fnEbNf3MrWHq"
      },
      "source": [
        "ANNmodel = tf.keras.models.Sequential(\n",
        "  [\n",
        "   tf.keras.layers.Flatten(input_shape=(32,32,3)),\n",
        "   tf.keras.layers.Dense(32, activation='relu'),\n",
        "   tf.keras.layers.Dense(32, activation='relu'),\n",
        "   tf.keras.layers.Dense(64, activation='relu'),\n",
        "   tf.keras.layers.Dense(64, activation='relu'),\n",
        "   tf.keras.layers.Dense(128, activation='relu'),\n",
        "   tf.keras.layers.Dense(10, activation='softmax')\n",
        "  ]\n",
        ")"
      ],
      "execution_count": null,
      "outputs": []
    },
    {
      "cell_type": "code",
      "metadata": {
        "id": "fx2PeAcar_Io"
      },
      "source": [
        "ANNmodel.compile(optimizer='adam',\n",
        "                 loss=tf.keras.losses.SparseCategoricalCrossentropy(from_logits=True),\n",
        "                 metrics = ['accuracy'])"
      ],
      "execution_count": null,
      "outputs": []
    },
    {
      "cell_type": "code",
      "metadata": {
        "colab": {
          "base_uri": "https://localhost:8080/"
        },
        "id": "aiKckFdZsjMh",
        "outputId": "d8e5437f-c3e4-4c5e-f29e-9684ce1cb2c3"
      },
      "source": [
        "ANNmodel.summary()"
      ],
      "execution_count": null,
      "outputs": [
        {
          "output_type": "stream",
          "text": [
            "Model: \"sequential_1\"\n",
            "_________________________________________________________________\n",
            "Layer (type)                 Output Shape              Param #   \n",
            "=================================================================\n",
            "flatten_1 (Flatten)          (None, 3072)              0         \n",
            "_________________________________________________________________\n",
            "dense_3 (Dense)              (None, 32)                98336     \n",
            "_________________________________________________________________\n",
            "dense_4 (Dense)              (None, 32)                1056      \n",
            "_________________________________________________________________\n",
            "dense_5 (Dense)              (None, 64)                2112      \n",
            "_________________________________________________________________\n",
            "dense_6 (Dense)              (None, 64)                4160      \n",
            "_________________________________________________________________\n",
            "dense_7 (Dense)              (None, 128)               8320      \n",
            "_________________________________________________________________\n",
            "dense_8 (Dense)              (None, 10)                1290      \n",
            "=================================================================\n",
            "Total params: 115,274\n",
            "Trainable params: 115,274\n",
            "Non-trainable params: 0\n",
            "_________________________________________________________________\n"
          ],
          "name": "stdout"
        }
      ]
    },
    {
      "cell_type": "code",
      "metadata": {
        "colab": {
          "base_uri": "https://localhost:8080/"
        },
        "id": "QMZxKybsr1kG",
        "outputId": "da0188d0-0984-4438-d5dc-44a8e9007875"
      },
      "source": [
        "history = ANNmodel.fit(train_img, train_out, validation_data=(test_img, test_out), epochs = 75 )"
      ],
      "execution_count": null,
      "outputs": [
        {
          "output_type": "stream",
          "text": [
            "Epoch 1/75\n",
            "1563/1563 [==============================] - 6s 4ms/step - loss: 2.0338 - accuracy: 0.2030 - val_loss: 2.0636 - val_accuracy: 0.1952\n",
            "Epoch 2/75\n",
            "1563/1563 [==============================] - 6s 4ms/step - loss: 2.0268 - accuracy: 0.2082 - val_loss: 2.0296 - val_accuracy: 0.2058\n",
            "Epoch 3/75\n",
            "1563/1563 [==============================] - 6s 4ms/step - loss: 2.0352 - accuracy: 0.2040 - val_loss: 2.0169 - val_accuracy: 0.2083\n",
            "Epoch 4/75\n",
            "1563/1563 [==============================] - 6s 4ms/step - loss: 2.0248 - accuracy: 0.2059 - val_loss: 2.0199 - val_accuracy: 0.2105\n",
            "Epoch 5/75\n",
            "1563/1563 [==============================] - 6s 4ms/step - loss: 2.0342 - accuracy: 0.2048 - val_loss: 2.0158 - val_accuracy: 0.2079\n",
            "Epoch 6/75\n",
            "1563/1563 [==============================] - 6s 4ms/step - loss: 2.0285 - accuracy: 0.2029 - val_loss: 2.0199 - val_accuracy: 0.2093\n",
            "Epoch 7/75\n",
            "1563/1563 [==============================] - 6s 4ms/step - loss: 2.0276 - accuracy: 0.2066 - val_loss: 2.0185 - val_accuracy: 0.2080\n",
            "Epoch 8/75\n",
            "1563/1563 [==============================] - 6s 4ms/step - loss: 2.0387 - accuracy: 0.2002 - val_loss: 2.0273 - val_accuracy: 0.2041\n",
            "Epoch 9/75\n",
            "1563/1563 [==============================] - 6s 4ms/step - loss: 2.0269 - accuracy: 0.2041 - val_loss: 2.0249 - val_accuracy: 0.2089\n",
            "Epoch 10/75\n",
            "1563/1563 [==============================] - 6s 4ms/step - loss: 2.0292 - accuracy: 0.2049 - val_loss: 2.0765 - val_accuracy: 0.1888\n",
            "Epoch 11/75\n",
            "1563/1563 [==============================] - 6s 4ms/step - loss: 2.0331 - accuracy: 0.2058 - val_loss: 2.0327 - val_accuracy: 0.2033\n",
            "Epoch 12/75\n",
            "1563/1563 [==============================] - 6s 4ms/step - loss: 2.0328 - accuracy: 0.2067 - val_loss: 2.0172 - val_accuracy: 0.2137\n",
            "Epoch 13/75\n",
            "1563/1563 [==============================] - 6s 4ms/step - loss: 2.0243 - accuracy: 0.2100 - val_loss: 2.0162 - val_accuracy: 0.2115\n",
            "Epoch 14/75\n",
            "1563/1563 [==============================] - 6s 4ms/step - loss: 2.0265 - accuracy: 0.2068 - val_loss: 2.0452 - val_accuracy: 0.1977\n",
            "Epoch 15/75\n",
            "1563/1563 [==============================] - 6s 4ms/step - loss: 2.0346 - accuracy: 0.2043 - val_loss: 2.0357 - val_accuracy: 0.1996\n",
            "Epoch 16/75\n",
            "1563/1563 [==============================] - 6s 4ms/step - loss: 2.0298 - accuracy: 0.2036 - val_loss: 2.0388 - val_accuracy: 0.2060\n",
            "Epoch 17/75\n",
            "1563/1563 [==============================] - 6s 4ms/step - loss: 2.0272 - accuracy: 0.2062 - val_loss: 2.0204 - val_accuracy: 0.2074\n",
            "Epoch 18/75\n",
            "1563/1563 [==============================] - 6s 4ms/step - loss: 2.0293 - accuracy: 0.2078 - val_loss: 2.0184 - val_accuracy: 0.2110\n",
            "Epoch 19/75\n",
            "1563/1563 [==============================] - 6s 4ms/step - loss: 2.0268 - accuracy: 0.2051 - val_loss: 2.0150 - val_accuracy: 0.2071\n",
            "Epoch 20/75\n",
            "1563/1563 [==============================] - 6s 4ms/step - loss: 2.0265 - accuracy: 0.2050 - val_loss: 2.0152 - val_accuracy: 0.2124\n",
            "Epoch 21/75\n",
            "1563/1563 [==============================] - 6s 4ms/step - loss: 2.0295 - accuracy: 0.2052 - val_loss: 2.0260 - val_accuracy: 0.2003\n",
            "Epoch 22/75\n",
            "1563/1563 [==============================] - 6s 4ms/step - loss: 2.0262 - accuracy: 0.2050 - val_loss: 2.1057 - val_accuracy: 0.1888\n",
            "Epoch 23/75\n",
            "1563/1563 [==============================] - 6s 4ms/step - loss: 2.0331 - accuracy: 0.2058 - val_loss: 2.0149 - val_accuracy: 0.2090\n",
            "Epoch 24/75\n",
            "1563/1563 [==============================] - 6s 4ms/step - loss: 2.0251 - accuracy: 0.2076 - val_loss: 2.0191 - val_accuracy: 0.2042\n",
            "Epoch 25/75\n",
            "1563/1563 [==============================] - 6s 4ms/step - loss: 2.0213 - accuracy: 0.2068 - val_loss: 2.0189 - val_accuracy: 0.2071\n",
            "Epoch 26/75\n",
            "1563/1563 [==============================] - 6s 4ms/step - loss: 2.0280 - accuracy: 0.2056 - val_loss: 2.0431 - val_accuracy: 0.1967\n",
            "Epoch 27/75\n",
            "1563/1563 [==============================] - 6s 4ms/step - loss: 2.0278 - accuracy: 0.2068 - val_loss: 2.0167 - val_accuracy: 0.2113\n",
            "Epoch 28/75\n",
            "1563/1563 [==============================] - 6s 4ms/step - loss: 2.0267 - accuracy: 0.2058 - val_loss: 2.0190 - val_accuracy: 0.2065\n",
            "Epoch 29/75\n",
            "1563/1563 [==============================] - 6s 4ms/step - loss: 2.0236 - accuracy: 0.2037 - val_loss: 2.0164 - val_accuracy: 0.2072\n",
            "Epoch 30/75\n",
            "1563/1563 [==============================] - 6s 4ms/step - loss: 2.0274 - accuracy: 0.2035 - val_loss: 2.0156 - val_accuracy: 0.2078\n",
            "Epoch 31/75\n",
            "1563/1563 [==============================] - 6s 4ms/step - loss: 2.0255 - accuracy: 0.2054 - val_loss: 2.0167 - val_accuracy: 0.2072\n",
            "Epoch 32/75\n",
            "1563/1563 [==============================] - 6s 4ms/step - loss: 2.0263 - accuracy: 0.2065 - val_loss: 2.0193 - val_accuracy: 0.2117\n",
            "Epoch 33/75\n",
            "1563/1563 [==============================] - 6s 4ms/step - loss: 2.0276 - accuracy: 0.2059 - val_loss: 2.0157 - val_accuracy: 0.2088\n",
            "Epoch 34/75\n",
            "1563/1563 [==============================] - 6s 4ms/step - loss: 2.0288 - accuracy: 0.2059 - val_loss: 2.0175 - val_accuracy: 0.2096\n",
            "Epoch 35/75\n",
            "1563/1563 [==============================] - 6s 4ms/step - loss: 2.0235 - accuracy: 0.2063 - val_loss: 2.0139 - val_accuracy: 0.2041\n",
            "Epoch 36/75\n",
            "1563/1563 [==============================] - 6s 4ms/step - loss: 2.0264 - accuracy: 0.2060 - val_loss: 2.0162 - val_accuracy: 0.2041\n",
            "Epoch 37/75\n",
            "1563/1563 [==============================] - 6s 4ms/step - loss: 2.0329 - accuracy: 0.2039 - val_loss: 2.1294 - val_accuracy: 0.1678\n",
            "Epoch 38/75\n",
            "1563/1563 [==============================] - 6s 4ms/step - loss: 2.0332 - accuracy: 0.2036 - val_loss: 2.0161 - val_accuracy: 0.2083\n",
            "Epoch 39/75\n",
            "1563/1563 [==============================] - 6s 4ms/step - loss: 2.0293 - accuracy: 0.2051 - val_loss: 2.0333 - val_accuracy: 0.2020\n",
            "Epoch 40/75\n",
            "1563/1563 [==============================] - 6s 4ms/step - loss: 2.0256 - accuracy: 0.2065 - val_loss: 2.0214 - val_accuracy: 0.2044\n",
            "Epoch 41/75\n",
            "1563/1563 [==============================] - 6s 4ms/step - loss: 2.0388 - accuracy: 0.2037 - val_loss: 2.0212 - val_accuracy: 0.2037\n",
            "Epoch 42/75\n",
            "1563/1563 [==============================] - 6s 4ms/step - loss: 2.0286 - accuracy: 0.2053 - val_loss: 2.0550 - val_accuracy: 0.1953\n",
            "Epoch 43/75\n",
            "1563/1563 [==============================] - 6s 4ms/step - loss: 2.0262 - accuracy: 0.2072 - val_loss: 2.0181 - val_accuracy: 0.2067\n",
            "Epoch 44/75\n",
            "1563/1563 [==============================] - 6s 4ms/step - loss: 2.0285 - accuracy: 0.2070 - val_loss: 2.0176 - val_accuracy: 0.2056\n",
            "Epoch 45/75\n",
            "1563/1563 [==============================] - 6s 4ms/step - loss: 2.0199 - accuracy: 0.2089 - val_loss: 2.0184 - val_accuracy: 0.2072\n",
            "Epoch 46/75\n",
            "1563/1563 [==============================] - 6s 4ms/step - loss: 2.0335 - accuracy: 0.2047 - val_loss: 2.0242 - val_accuracy: 0.2067\n",
            "Epoch 47/75\n",
            "1563/1563 [==============================] - 6s 4ms/step - loss: 2.0259 - accuracy: 0.2077 - val_loss: 2.0345 - val_accuracy: 0.2036\n",
            "Epoch 48/75\n",
            "1563/1563 [==============================] - 6s 4ms/step - loss: 2.0342 - accuracy: 0.2063 - val_loss: 2.0186 - val_accuracy: 0.2086\n",
            "Epoch 49/75\n",
            "1563/1563 [==============================] - 6s 4ms/step - loss: 2.0273 - accuracy: 0.2098 - val_loss: 2.0326 - val_accuracy: 0.2069\n",
            "Epoch 50/75\n",
            "1563/1563 [==============================] - 6s 4ms/step - loss: 2.0336 - accuracy: 0.2060 - val_loss: 2.0203 - val_accuracy: 0.2093\n",
            "Epoch 51/75\n",
            "1563/1563 [==============================] - 6s 4ms/step - loss: 2.0278 - accuracy: 0.2061 - val_loss: 2.0164 - val_accuracy: 0.2091\n",
            "Epoch 52/75\n",
            "1563/1563 [==============================] - 6s 4ms/step - loss: 2.0306 - accuracy: 0.2043 - val_loss: 2.0243 - val_accuracy: 0.2087\n",
            "Epoch 53/75\n",
            "1563/1563 [==============================] - 6s 4ms/step - loss: 2.0248 - accuracy: 0.2075 - val_loss: 2.0163 - val_accuracy: 0.2086\n",
            "Epoch 54/75\n",
            "1563/1563 [==============================] - 6s 4ms/step - loss: 2.0287 - accuracy: 0.2065 - val_loss: 2.0184 - val_accuracy: 0.2121\n",
            "Epoch 55/75\n",
            "1563/1563 [==============================] - 6s 4ms/step - loss: 2.0299 - accuracy: 0.2048 - val_loss: 2.0260 - val_accuracy: 0.2056\n",
            "Epoch 56/75\n",
            "1563/1563 [==============================] - 6s 4ms/step - loss: 2.0222 - accuracy: 0.2090 - val_loss: 2.0309 - val_accuracy: 0.2018\n",
            "Epoch 57/75\n",
            "1563/1563 [==============================] - 6s 4ms/step - loss: 2.0263 - accuracy: 0.2059 - val_loss: 2.0178 - val_accuracy: 0.2066\n",
            "Epoch 58/75\n",
            "1563/1563 [==============================] - 6s 4ms/step - loss: 2.0234 - accuracy: 0.2053 - val_loss: 2.0235 - val_accuracy: 0.2030\n",
            "Epoch 59/75\n",
            "1563/1563 [==============================] - 6s 4ms/step - loss: 2.0269 - accuracy: 0.2078 - val_loss: 2.0300 - val_accuracy: 0.2030\n",
            "Epoch 60/75\n",
            "1563/1563 [==============================] - 6s 4ms/step - loss: 2.0515 - accuracy: 0.1991 - val_loss: 2.0197 - val_accuracy: 0.2066\n",
            "Epoch 61/75\n",
            "1563/1563 [==============================] - 6s 4ms/step - loss: 2.0277 - accuracy: 0.2078 - val_loss: 2.0194 - val_accuracy: 0.2099\n",
            "Epoch 62/75\n",
            "1563/1563 [==============================] - 6s 4ms/step - loss: 2.0275 - accuracy: 0.2051 - val_loss: 2.0254 - val_accuracy: 0.2099\n",
            "Epoch 63/75\n",
            "1563/1563 [==============================] - 6s 4ms/step - loss: 2.0253 - accuracy: 0.2094 - val_loss: 2.0241 - val_accuracy: 0.2076\n",
            "Epoch 64/75\n",
            "1563/1563 [==============================] - 6s 4ms/step - loss: 2.0285 - accuracy: 0.2084 - val_loss: 2.1240 - val_accuracy: 0.1828\n",
            "Epoch 65/75\n",
            "1563/1563 [==============================] - 6s 4ms/step - loss: 2.0249 - accuracy: 0.2071 - val_loss: 2.0232 - val_accuracy: 0.2073\n",
            "Epoch 66/75\n",
            "1563/1563 [==============================] - 6s 4ms/step - loss: 2.0256 - accuracy: 0.2067 - val_loss: 2.0241 - val_accuracy: 0.2057\n",
            "Epoch 67/75\n",
            "1563/1563 [==============================] - 6s 4ms/step - loss: 2.0250 - accuracy: 0.2081 - val_loss: 2.0172 - val_accuracy: 0.2101\n",
            "Epoch 68/75\n",
            "1563/1563 [==============================] - 6s 4ms/step - loss: 2.0196 - accuracy: 0.2107 - val_loss: 2.0159 - val_accuracy: 0.2061\n",
            "Epoch 69/75\n",
            "1563/1563 [==============================] - 6s 4ms/step - loss: 2.0248 - accuracy: 0.2089 - val_loss: 2.0258 - val_accuracy: 0.2076\n",
            "Epoch 70/75\n",
            "1563/1563 [==============================] - 6s 4ms/step - loss: 2.0263 - accuracy: 0.2083 - val_loss: 2.0165 - val_accuracy: 0.2073\n",
            "Epoch 71/75\n",
            "1563/1563 [==============================] - 6s 4ms/step - loss: 2.0227 - accuracy: 0.2082 - val_loss: 2.0270 - val_accuracy: 0.2013\n",
            "Epoch 72/75\n",
            "1563/1563 [==============================] - 6s 4ms/step - loss: 2.0243 - accuracy: 0.2087 - val_loss: 2.0235 - val_accuracy: 0.2075\n",
            "Epoch 73/75\n",
            "1563/1563 [==============================] - 6s 4ms/step - loss: 2.0241 - accuracy: 0.2067 - val_loss: 2.0267 - val_accuracy: 0.2059\n",
            "Epoch 74/75\n",
            "1563/1563 [==============================] - 6s 4ms/step - loss: 2.0193 - accuracy: 0.2091 - val_loss: 2.0158 - val_accuracy: 0.2095\n",
            "Epoch 75/75\n",
            "1563/1563 [==============================] - 6s 4ms/step - loss: 2.0270 - accuracy: 0.2068 - val_loss: 2.0293 - val_accuracy: 0.2031\n"
          ],
          "name": "stdout"
        }
      ]
    },
    {
      "cell_type": "code",
      "metadata": {
        "colab": {
          "base_uri": "https://localhost:8080/",
          "height": 295
        },
        "id": "cVOJwbpgr88L",
        "outputId": "9f3dd1d4-db8d-49c2-dc5b-44b10fcd6a5e"
      },
      "source": [
        "plt.plot(history.history['accuracy'])\n",
        "plt.plot(history.history['val_accuracy'])\n",
        "plt.title('Model')\n",
        "plt.xlabel('epoch')\n",
        "plt.ylabel('accuracy')\n",
        "plt.ylim([0,1])\n",
        "plt.legend(['train', 'test'], loc='upper left')\n",
        "plt.show()"
      ],
      "execution_count": null,
      "outputs": [
        {
          "output_type": "display_data",
          "data": {
            "image/png": "[encoded data removed]",
            "text/plain": [
              "<Figure size 432x288 with 1 Axes>"
            ]
          },
          "metadata": {
            "tags": [],
            "needs_background": "light"
          }
        }
      ]
    },
    {
      "cell_type": "code",
      "metadata": {
        "colab": {
          "base_uri": "https://localhost:8080/",
          "height": 295
        },
        "id": "DJy0yMgns_8g",
        "outputId": "9d2127fc-8de0-4038-93e0-6382dc6af6cb"
      },
      "source": [
        "plt.plot(history.history['loss'])\n",
        "plt.plot(history.history['val_loss'])\n",
        "plt.title('Model')\n",
        "plt.xlabel('epoch')\n",
        "plt.ylabel('loss')\n",
        "# plt.ylim([0,1])\n",
        "plt.legend(['train', 'test'], loc='upper left')\n",
        "plt.show()"
      ],
      "execution_count": null,
      "outputs": [
        {
          "output_type": "display_data",
          "data": {
            "image/png": "[encoded data removed]",
            "text/plain": [
              "<Figure size 432x288 with 1 Axes>"
            ]
          },
          "metadata": {
            "tags": [],
            "needs_background": "light"
          }
        }
      ]
    }
  ]
}